{
 "cells": [
  {
   "cell_type": "code",
   "execution_count": 1,
   "id": "121a65a2",
   "metadata": {},
   "outputs": [],
   "source": [
    "import requests\n",
    "from bs4 import BeautifulSoup\n",
    "from pymongo import MongoClient\n",
    "import pandas as pd\n",
    "import bson\n",
    "from bson.raw_bson import RawBSONDocument\n",
    "\n",
    "db_client = MongoClient(\"mongodb+srv://****************@cluster0.f9d2v.mongodb.net/*********?retryWrites=true&w=majority\")\n",
    "my_db = db_client.examen_olimpiadas\n",
    "my_posts = my_db.tokio\n",
    "    \n",
    "def find_2nd(string, substring):\n",
    "    return string.find(substring, string.find(substring) + 1)\n",
    "def find_1st(string, substring):\n",
    "    return string.find(substring, string.find(substring))"
   ]
  },
  {
   "cell_type": "code",
   "execution_count": 4,
   "id": "20614db6",
   "metadata": {},
   "outputs": [
    {
     "name": "stdout",
     "output_type": "stream",
     "text": [
      "['Atletismo', 'Baloncesto', 'Baloncesto 3x3', 'Balonmano', 'Boxeo', 'Bádminton', 'Béisbol', 'Ciclismo BMX Freestyle', 'Ciclismo BMX', 'Ciclismo Carretera', 'Ciclismo Montaña', 'Ciclismo Pista', 'Escalada Deportiva', 'Esgrima', 'Fútbol', 'Gimnasia Artística', 'Gimnasia Rítmica', 'Gimnasia Trampolín', 'Golf', 'Halterofilia', 'Hockey', 'Hípica', 'Judo', 'Karate', 'Lucha', 'Natación', 'Natación A. Abiertas', 'Natación Saltos', 'Natación Sincronizada', 'Pentatlón Moderno', 'Piragüismo Esprint', 'Piragüismo Eslalon', 'Remo', 'Rugby', 'Skateboarding', 'Surf', 'Taekwondo', 'Tenis', 'Tenis de Mesa', 'Tiro con Arco', 'Tiro Olímpico', 'Triatlón', 'Vela', 'Voleibol', 'Voleibol Playa', 'Waterpolo']\n",
      "['Atletismo', 'Baloncesto', 'Baloncesto 3x3', 'Balonmano', 'Boxeo', 'Bádminton', 'Béisbol', 'Ciclismo BMX Freestyle', 'Ciclismo BMX', 'Ciclismo Carretera', 'Ciclismo Montaña', 'Ciclismo Pista', 'Escalada Deportiva', 'Esgrima', 'Fútbol', 'Gimnasia Artística', 'Gimnasia Rítmica', 'Gimnasia Trampolín', 'Golf', 'Halterofilia', 'Hockey', 'Hípica', 'Judo', 'Karate', 'Lucha', 'Natación', 'Natación A. Abiertas', 'Natación Saltos', 'Natación Sincronizada', 'Pentatlón Moderno', 'Piragüismo Esprint', 'Piragüismo Eslalon', 'Remo', 'Rugby', 'Skateboarding', 'Surf', 'Taekwondo', 'Tenis', 'Tenis de Mesa', 'Tiro con Arco', 'Tiro Olímpico', 'Triatlón', 'Vela', 'Voleibol', 'Voleibol Playa', 'Waterpolo']\n"
     ]
    }
   ],
   "source": [
    "response = requests.get(\"https://resultados.as.com/resultados/juegos_olimpicos/resultados/\")\n",
    "soup = BeautifulSoup(response.content, \"lxml\")\n",
    "\n",
    "Course=[]\n",
    "Provider=[]\n",
    "Duration=[]\n",
    "Start_Date=[]\n",
    "Offered_By=[]\n",
    "No_Of_Reviews=[]\n",
    "Rating=[]\n",
    "\n",
    "'''\n",
    " aqui guardamos con el nombre n.py els scrapping de html \n",
    "'''\n",
    "\n",
    "equi =soup.find_all('span',class_='deporte-nombre')\n",
    "\n",
    "\n",
    "'''\n",
    " aqui todo guardamos en una lista \n",
    "'''\n",
    "equipos =list()\n",
    "for i in equi:\n",
    "    equipos.append(i.text)\n",
    "print(equipos)\n",
    "\n",
    "    \n",
    "'''\n",
    "aqui la guardamos en json a mongodb\n",
    "'''\n",
    "for i in range(len(equipos)):\n",
    "  \n",
    "    a={\n",
    "       'n.py':equipos[i]}\n",
    "    \n",
    "    my_posts.insert_one(a)\n",
    "    a={}\n",
    "    \n",
    "    \n",
    "print(equipos)\n"
   ]
  },
  {
   "cell_type": "code",
   "execution_count": null,
   "id": "7b57fe0c",
   "metadata": {},
   "outputs": [],
   "source": []
  },
  {
   "cell_type": "code",
   "execution_count": null,
   "id": "c00ef944",
   "metadata": {},
   "outputs": [],
   "source": []
  }
 ],
 "metadata": {
  "kernelspec": {
   "display_name": "Python 3",
   "language": "python",
   "name": "python3"
  },
  "language_info": {
   "codemirror_mode": {
    "name": "ipython",
    "version": 3
   },
   "file_extension": ".py",
   "mimetype": "text/x-python",
   "name": "python",
   "nbconvert_exporter": "python",
   "pygments_lexer": "ipython3",
   "version": "3.9.5"
  }
 },
 "nbformat": 4,
 "nbformat_minor": 5
}
